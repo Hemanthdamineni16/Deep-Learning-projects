{
 "cells": [
  {
   "cell_type": "code",
   "execution_count": null,
   "id": "59e9f04f-3a50-4e51-a65b-66751b9498af",
   "metadata": {},
   "outputs": [],
   "source": [
    "import os\n",
    "import cv2\n",
    "import numpy as np\n",
    "# Encoding and Split data into Train/Test Sets\n",
    "from sklearn.preprocessing import LabelEncoder\n",
    "from tensorflow.keras.utils import to_categorical\n",
    "from sklearn.model_selection import train_test_split\n",
    "# Tensorflow Keras CNN Model\n",
    "from tensorflow.keras.models import Sequential\n",
    "from tensorflow.keras.layers import Dense, Dropout, Flatten, Activation, Conv2D, MaxPooling2D\n",
    "from tensorflow.keras.preprocessing.image import ImageDataGenerator\n",
    "from tensorflow.keras.optimizers import Adam\n",
    "# Plot Images\n",
    "import matplotlib.pyplot as plt"
   ]
  },
  {
   "cell_type": "code",
   "execution_count": null,
   "id": "3cad3d23-f548-4e20-9be2-c573181da55f",
   "metadata": {},
   "outputs": [],
   "source": [
    "folder_dir = './data'"
   ]
  },
  {
   "cell_type": "code",
   "execution_count": null,
   "id": "e192ee64-7c85-41ff-8da6-72099d448e3e",
   "metadata": {},
   "outputs": [],
   "source": [
    "data_dir = './data'\n",
    "datagen = ImageDataGenerator()\n",
    "\n",
    "\n",
    "class_names = list(datagen.flow_from_directory(data_dir).class_indices.keys())\n",
    "\n",
    "# Print the flower names\n",
    "print(\"Flower names in the data folder:\")\n",
    "for flower in class_names:\n",
    "    print(flower)"
   ]
  },
  {
   "cell_type": "code",
   "execution_count": null,
   "id": "04f9d734-54f1-43a0-88cf-be46215e9b97",
   "metadata": {},
   "outputs": [],
   "source": [
    "count = 0 \n",
    "dirs = os.listdir('data/')\n",
    "for dir in dirs:\n",
    "    files = list(os.listdir('data/'+dir))\n",
    "    print( dir +' Folder has '+ str(len(files)) + ' images')\n",
    "    count = count + len(files)\n",
    "print( 'data Folder has '+ str(count) + ' images')"
   ]
  },
  {
   "cell_type": "code",
   "execution_count": null,
   "id": "940e0264-af7c-4d2d-9963-31a0087ebbaa",
   "metadata": {},
   "outputs": [],
   "source": [
    "data_dir = './data'\n",
    "datagen = ImageDataGenerator(rescale=1./255)\n",
    "train_ds = datagen.flow_from_directory(\n",
    "    data_dir,\n",
    ")\n",
    "images, labels = next(train_ds)\n",
    "flower_names = list(train_ds.class_indices.keys())\n",
    "\n",
    "plt.figure(figsize=(10, 10))\n",
    "for i in range(9):\n",
    "    plt.subplot(3, 3, i+1)\n",
    "    plt.imshow(images[i])\n",
    "    plt.title(flower_names[int(labels[i].argmax())])\n",
    "    plt.axis('off')\n",
    "\n",
    "plt.show()"
   ]
  },
  {
   "cell_type": "code",
   "execution_count": null,
   "id": "bbcaac02-36de-48e9-8a39-83cbdeec0dd6",
   "metadata": {},
   "outputs": [],
   "source": [
    "data = []\n",
    "label = []\n",
    "\n",
    "SIZE = 128  # Crop the image to 128x128\n",
    "\n",
    "for folder in os.listdir(folder_dir):\n",
    "    for file in os.listdir(os.path.join(folder_dir, folder)):\n",
    "        if file.endswith(\"jpg\"):\n",
    "            label.append(folder)\n",
    "            img = cv2.imread(os.path.join(folder_dir, folder, file))\n",
    "            img_rgb = cv2.cvtColor(img, cv2.COLOR_BGR2RGB)\n",
    "            im = cv2.resize(img_rgb, (SIZE, SIZE))\n",
    "            data.append(im)\n",
    "        else:\n",
    "            continue"
   ]
  },
  {
   "cell_type": "code",
   "execution_count": null,
   "id": "0bc8aa46-df02-444c-ae03-309aa398b802",
   "metadata": {},
   "outputs": [],
   "source": [
    "data_arr = np.array(data)\n",
    "label_arr = np.array(label)"
   ]
  },
  {
   "cell_type": "code",
   "execution_count": null,
   "id": "c0550aea-0215-4d84-9e9e-330617c5c407",
   "metadata": {},
   "outputs": [],
   "source": [
    "encoder = LabelEncoder()\n",
    "y = encoder.fit_transform(label_arr)\n",
    "y = to_categorical(y, 5)\n",
    "X = data_arr / 255"
   ]
  },
  {
   "cell_type": "code",
   "execution_count": null,
   "id": "66c415d7-1854-45c0-831b-d31b08213b9d",
   "metadata": {},
   "outputs": [],
   "source": [
    "X_train, X_test, y_train, y_test = train_test_split(X, y, test_size=0.20, random_state=10)"
   ]
  },
  {
   "cell_type": "code",
   "execution_count": null,
   "id": "75de9e95-bb24-44e2-a110-8c311e19f870",
   "metadata": {},
   "outputs": [],
   "source": [
    "from tensorflow.keras.layers import Input\n",
    "\n",
    "model = Sequential()\n",
    "model.add(Input(shape=(SIZE, SIZE, 3)))\n",
    "model.add(Conv2D(filters=64, kernel_size=(3, 3), padding='Same', activation='relu'))\n",
    "model.add(MaxPooling2D(pool_size=(2, 2)))\n",
    "\n",
    "model.add(Conv2D(filters=128, kernel_size=(3, 3), padding='Same', activation='relu'))\n",
    "model.add(Conv2D(filters=128, kernel_size=(3, 3), padding='Same', activation='relu'))\n",
    "model.add(Conv2D(filters=128, kernel_size=(3, 3), padding='Same', activation='relu'))\n",
    "model.add(MaxPooling2D(pool_size=(2, 2)))\n",
    "\n",
    "model.add(Flatten())\n",
    "model.add(Dense(128, activation='relu'))\n",
    "model.add(Dense(64, activation='relu'))\n",
    "model.add(Dropout(rate=0.5))\n",
    "model.add(Dense(5, activation=\"softmax\"))"
   ]
  },
  {
   "cell_type": "code",
   "execution_count": null,
   "id": "3fc2874c-cd3a-451b-a7cd-23bb1992e366",
   "metadata": {},
   "outputs": [],
   "source": [
    "datagen = ImageDataGenerator(\n",
    "    rotation_range=20,\n",
    "    zoom_range=0.20,\n",
    "    width_shift_range=0.3,\n",
    "    height_shift_range=0.3,\n",
    "    horizontal_flip=True,\n",
    "    vertical_flip=True)\n",
    "\n",
    "datagen.fit(X_train)"
   ]
  },
  {
   "cell_type": "code",
   "execution_count": null,
   "id": "48c8f6f2-b273-4c78-85ce-3acc4cd162e7",
   "metadata": {},
   "outputs": [],
   "source": [
    "from tensorflow.keras.optimizers import Adam\n",
    "\n",
    "# Compile the model with the correct learning rate argument\n",
    "model.compile(optimizer=Adam(learning_rate=0.0001), loss='categorical_crossentropy', metrics=['accuracy'])\n",
    "\n",
    "# Define batch size and epochs\n",
    "batch_size = 32\n",
    "epochs =16\n",
    "\n",
    "# Train the model using the fit method\n",
    "history = model.fit(datagen.flow(X_train, y_train, batch_size=batch_size),\n",
    "                    epochs=epochs,\n",
    "                    validation_data=(X_test, y_test),\n",
    "                    verbose=1)"
   ]
  },
  {
   "cell_type": "code",
   "execution_count": null,
   "id": "b4a1c5cc-acaf-43f0-a5ab-3e2010ddf4a0",
   "metadata": {},
   "outputs": [],
   "source": [
    "categories = np.sort(os.listdir(folder_dir))\n",
    "fig, ax = plt.subplots(6, 6, figsize=(25, 40))\n",
    "\n",
    "for i in range(6):\n",
    "    for j in range(6):\n",
    "        k = int(np.random.random_sample() * len(X_test))\n",
    "        if (categories[np.argmax(y_test[k])] == categories[np.argmax(model.predict(X_test)[k])]):\n",
    "            ax[i, j].set_title(\"TRUE: \" + categories[np.argmax(y_test[k])], color='green')\n",
    "            ax[i, j].set_xlabel(\"PREDICTED: \" + categories[np.argmax(model.predict(X_test)[k])], color='green')\n",
    "            ax[i, j].imshow(np.array(X_test)[k].reshape(SIZE, SIZE, 3), cmap='gray')\n",
    "        else:\n",
    "            ax[i, j].set_title(\"TRUE: \" + categories[np.argmax(y_test[k])], color='red')\n",
    "            ax[i, j].set_xlabel(\"PREDICTED: \" + categories[np.argmax(model.predict(X_test)[k])], color='red')\n",
    "            ax[i, j].imshow(np.array(X_test)[k].reshape(SIZE, SIZE, 3), cmap='gray')"
   ]
  },
  {
   "cell_type": "code",
   "execution_count": null,
   "id": "5f4e9b54-7ea4-49d4-a8a8-9c71f89541e7",
   "metadata": {},
   "outputs": [],
   "source": []
  }
 ],
 "metadata": {
  "kernelspec": {
   "display_name": "Python 3 (ipykernel)",
   "language": "python",
   "name": "python3"
  },
  "language_info": {
   "codemirror_mode": {
    "name": "ipython",
    "version": 3
   },
   "file_extension": ".py",
   "mimetype": "text/x-python",
   "name": "python",
   "nbconvert_exporter": "python",
   "pygments_lexer": "ipython3",
   "version": "3.11.7"
  }
 },
 "nbformat": 4,
 "nbformat_minor": 5
}
